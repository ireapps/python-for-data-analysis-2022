{
 "cells": [
  {
   "cell_type": "markdown",
   "metadata": {},
   "source": [
    "# 3. Grouping data in pandas\n",
    "\n",
    "You can group and aggregate data in pandas in ways that will be familiar if you've ever done a pivot table in Excel or a GROUP BY statement in SQL.\n",
    "\n",
    "In this notebook, we'll use the eel import data that lives at `../data/eels.csv`.\n",
    "\n",
    "- [value_counts()](#value_counts())\n",
    "- [groupby()](#groupby())\n",
    "- [Grouping by multiple columns](#Grouping-by-multiple-columns)\n",
    "- [pivot_table()](#pivot_table())"
   ]
  },
  {
   "cell_type": "code",
   "execution_count": null,
   "metadata": {},
   "outputs": [],
   "source": [
    "# import pandas\n",
    "import pandas as pd"
   ]
  },
  {
   "cell_type": "code",
   "execution_count": null,
   "metadata": {},
   "outputs": [],
   "source": [
    "# read the CSV into a data frame\n",
    "df = pd.read_csv('../data/eels.csv')"
   ]
  },
  {
   "cell_type": "code",
   "execution_count": null,
   "metadata": {},
   "outputs": [],
   "source": [
    "# check the output with `head()`\n",
    "df.head()"
   ]
  },
  {
   "cell_type": "markdown",
   "metadata": {},
   "source": [
    "### `value_counts()`\n",
    "\n",
    "If all you need to do is count the occurrences of a value in a column, you can use the [`value_counts()`](https://pandas.pydata.org/pandas-docs/stable/generated/pandas.Series.value_counts.html) method.\n",
    "\n",
    "In our eel data, every row is one month's of shipments of a particular eel product from one country. Let's count up how many months each country is represented in the data."
   ]
  },
  {
   "cell_type": "code",
   "execution_count": null,
   "metadata": {
    "scrolled": true
   },
   "outputs": [],
   "source": [
    "# get value counts of country column\n",
    "df.country.value_counts()"
   ]
  },
  {
   "cell_type": "markdown",
   "metadata": {},
   "source": [
    "### `groupby()`\n",
    "\n",
    "Let's group the data by country and sum the kilos for each country.\n",
    "\n",
    "If this were a pivot table in Excel, we'd drag the `country` column into Rows and the `kilos` column into Values, then summarize by Sum.\n",
    "\n",
    "If this were SQL, we might write something like:\n",
    "\n",
    "```sql\n",
    "SELECT country, SUM(kilos)\n",
    "FROM eels\n",
    "GROUP BY country\n",
    "ORDER BY 2 desc\n",
    "```\n",
    "\n",
    "Let's do the same thing in pandas using [`groupby`](https://pandas.pydata.org/pandas-docs/stable/generated/pandas.DataFrame.groupby.html):\n",
    "\n",
    "- Select a list with our two columns of interest (`country` and `kilos`)\n",
    "- Call the `groupby()` method on the grouping column (`country`)\n",
    "- Call the `sum()` method\n",
    "- Sort by kilos descending\n",
    "\n",
    "Notice also that we're doing this in one fell swoop, by tacking each method onto the end of the previous one -- this is a technique called _method chaining_, an efficient way to string together several operations at once without having to \"save\" each intermediary step."
   ]
  },
  {
   "cell_type": "code",
   "execution_count": null,
   "metadata": {},
   "outputs": [],
   "source": [
    "df[['country', 'kilos']].groupby('country').sum().sort_values('kilos', ascending=False)"
   ]
  },
  {
   "cell_type": "markdown",
   "metadata": {},
   "source": [
    "You can use other aggregations, too -- let's do the `median()`."
   ]
  },
  {
   "cell_type": "code",
   "execution_count": null,
   "metadata": {},
   "outputs": [],
   "source": [
    "df[['country', 'kilos']].groupby('country').median().sort_values('kilos', ascending=False)"
   ]
  },
  {
   "cell_type": "markdown",
   "metadata": {},
   "source": [
    "... and you can do _multiple_ aggregations, too, if that's useful. Just use the `agg()` function and pass it a list of functions that you'd like to compute on numeric columns:"
   ]
  },
  {
   "cell_type": "code",
   "execution_count": null,
   "metadata": {},
   "outputs": [],
   "source": [
    "df[['country', 'kilos']].groupby('country').agg(['sum', 'median', 'mean'])"
   ]
  },
  {
   "cell_type": "markdown",
   "metadata": {},
   "source": [
    "### Grouping by multiple columns\n",
    "\n",
    "You can group by multiple columns! Just pass a _list_ of columns to the `groupby()` method instead of a column name. If, for example, we want to get the total kilos by country by year, we could select our three columns of data to pass to `groupby()` and call the `sum()` function. Like this:"
   ]
  },
  {
   "cell_type": "code",
   "execution_count": null,
   "metadata": {},
   "outputs": [],
   "source": [
    "df[['country', 'year', 'kilos']].groupby(['country', 'year']).sum()"
   ]
  },
  {
   "cell_type": "markdown",
   "metadata": {},
   "source": [
    "### `pivot_table()`\n",
    "\n",
    "... which is fine and all, but there's a more intuitive way to look at this data, I think: using the [`pivot_table()`](https://pandas.pydata.org/pandas-docs/stable/generated/pandas.pivot_table.html) method.\n",
    "\n",
    "If we were making this pivot table in Excel, we would drag `country` to Rows, `kilos` to Values and `year` to Columns. But we're gonna do it in pandas. We're gonna hand the `pivot_table()` method four things:\n",
    "- The data frame you're pivoting (`df`)\n",
    "- The `index` column -- what to group your data by (`index='country'`)\n",
    "- The `columns` column -- the second grouping factor (`columns='year'`)\n",
    "- The `values` column -- what column are we doing math on? (`values='kilos'`)\n",
    "- The `aggfunc` -- what function to use to aggregate the data; the default is to use an average, but we'll use Python's built-in `sum` function\n",
    "\n",
    "Then we'll sort the results by the latest year of data -- 2017 -- and fill null values with zeroes."
   ]
  },
  {
   "cell_type": "code",
   "execution_count": null,
   "metadata": {},
   "outputs": [],
   "source": [
    "pd.pivot_table(df,\n",
    "               index='country',\n",
    "               columns='year',\n",
    "               values='kilos',\n",
    "               aggfunc=sum).sort_values(2017, ascending=False) \\\n",
    "                           .fillna(0)"
   ]
  },
  {
   "cell_type": "markdown",
   "metadata": {},
   "source": [
    "### ✍️ Your turn\n",
    "\n",
    "Let's take a look at a cut of U.S. dam safety data.\n",
    "\n",
    "As you explore, come up with a list of questions you'd like to ask the data, then think about the pandas operations you'd need to run in order to show a view of the data to answer each one.\n",
    "\n",
    "In the cells below, practice what we've learned so far:\n",
    "- Read in a CSV of dam safety data (`../data/dams.csv`) -- note that, in this case, the file encoding  is `latin-1` rather than the more typical `utf-8`, so you have to specify the encoding on import, so I did this one for us\n",
    "- Inspect the dataframe and note any issues you find\n",
    "- Practice sorting the data by one or more columns (in the context of doing integrity checks)\n",
    "- Practice filtering against columns that interest you\n",
    "- Practice grouping the data by various columns\n",
    "- Start answering specific questions you have"
   ]
  },
  {
   "cell_type": "code",
   "execution_count": null,
   "metadata": {},
   "outputs": [],
   "source": [
    "df = pd.read_csv('../data/dams.csv', encoding='latin-1')"
   ]
  },
  {
   "cell_type": "code",
   "execution_count": null,
   "metadata": {},
   "outputs": [],
   "source": [
    "df.head()"
   ]
  },
  {
   "cell_type": "code",
   "execution_count": null,
   "metadata": {},
   "outputs": [],
   "source": []
  },
  {
   "cell_type": "code",
   "execution_count": null,
   "metadata": {},
   "outputs": [],
   "source": []
  },
  {
   "cell_type": "code",
   "execution_count": null,
   "metadata": {},
   "outputs": [],
   "source": []
  },
  {
   "cell_type": "code",
   "execution_count": null,
   "metadata": {},
   "outputs": [],
   "source": []
  },
  {
   "cell_type": "code",
   "execution_count": null,
   "metadata": {},
   "outputs": [],
   "source": []
  }
 ],
 "metadata": {
  "kernelspec": {
   "display_name": "Python 3 (ipykernel)",
   "language": "python",
   "name": "python3"
  },
  "language_info": {
   "codemirror_mode": {
    "name": "ipython",
    "version": 3
   },
   "file_extension": ".py",
   "mimetype": "text/x-python",
   "name": "python",
   "nbconvert_exporter": "python",
   "pygments_lexer": "ipython3",
   "version": "3.9.14"
  }
 },
 "nbformat": 4,
 "nbformat_minor": 2
}
